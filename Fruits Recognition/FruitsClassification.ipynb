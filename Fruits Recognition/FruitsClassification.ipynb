{
 "cells": [
  {
   "cell_type": "code",
   "execution_count": 1,
   "metadata": {
    "colab": {
     "base_uri": "https://localhost:8080/"
    },
    "executionInfo": {
     "elapsed": 1920,
     "status": "ok",
     "timestamp": 1608733977478,
     "user": {
      "displayName": "Abhilash Chintada",
      "photoUrl": "https://lh3.googleusercontent.com/a-/AOh14GhlwwwMJr16CgjmRFWk833xZEy2OfpaFZDIqM84=s64",
      "userId": "00311744807213723199"
     },
     "user_tz": -330
    },
    "id": "qREKjjU712f5",
    "outputId": "7e472886-7f62-45e3-a16b-53b675630d6b"
   },
   "outputs": [
    {
     "name": "stdout",
     "output_type": "stream",
     "text": [
      "Wed Dec 23 14:32:57 2020       \n",
      "+-----------------------------------------------------------------------------+\n",
      "| NVIDIA-SMI 460.27.04    Driver Version: 418.67       CUDA Version: 10.1     |\n",
      "|-------------------------------+----------------------+----------------------+\n",
      "| GPU  Name        Persistence-M| Bus-Id        Disp.A | Volatile Uncorr. ECC |\n",
      "| Fan  Temp  Perf  Pwr:Usage/Cap|         Memory-Usage | GPU-Util  Compute M. |\n",
      "|                               |                      |               MIG M. |\n",
      "|===============================+======================+======================|\n",
      "|   0  Tesla T4            Off  | 00000000:00:04.0 Off |                    0 |\n",
      "| N/A   65C    P8    12W /  70W |      0MiB / 15079MiB |      0%      Default |\n",
      "|                               |                      |                 ERR! |\n",
      "+-------------------------------+----------------------+----------------------+\n",
      "                                                                               \n",
      "+-----------------------------------------------------------------------------+\n",
      "| Processes:                                                                  |\n",
      "|  GPU   GI   CI        PID   Type   Process name                  GPU Memory |\n",
      "|        ID   ID                                                   Usage      |\n",
      "|=============================================================================|\n",
      "|  No running processes found                                                 |\n",
      "+-----------------------------------------------------------------------------+\n"
     ]
    }
   ],
   "source": [
    "!nvidia-smi"
   ]
  },
  {
   "cell_type": "code",
   "execution_count": 2,
   "metadata": {
    "colab": {
     "base_uri": "https://localhost:8080/"
    },
    "executionInfo": {
     "elapsed": 70024,
     "status": "ok",
     "timestamp": 1608734045603,
     "user": {
      "displayName": "Abhilash Chintada",
      "photoUrl": "https://lh3.googleusercontent.com/a-/AOh14GhlwwwMJr16CgjmRFWk833xZEy2OfpaFZDIqM84=s64",
      "userId": "00311744807213723199"
     },
     "user_tz": -330
    },
    "id": "bkXUSo-ShuCV",
    "outputId": "905a63d7-f5db-40b7-c045-4fc55ee1830d"
   },
   "outputs": [
    {
     "name": "stdout",
     "output_type": "stream",
     "text": [
      "--2020-12-23 14:32:59--  https://www.dropbox.com/s/fxn3ldztzwxm0rw/FruitsData.zip\n",
      "Resolving www.dropbox.com (www.dropbox.com)... 162.125.2.18, 2620:100:6019:18::a27d:412\n",
      "Connecting to www.dropbox.com (www.dropbox.com)|162.125.2.18|:443... connected.\n",
      "HTTP request sent, awaiting response... 301 Moved Permanently\n",
      "Location: /s/raw/fxn3ldztzwxm0rw/FruitsData.zip [following]\n",
      "--2020-12-23 14:32:59--  https://www.dropbox.com/s/raw/fxn3ldztzwxm0rw/FruitsData.zip\n",
      "Reusing existing connection to www.dropbox.com:443.\n",
      "HTTP request sent, awaiting response... 302 Found\n",
      "Location: https://uc0e3c6a9e753ef9af708b09f4f5.dl.dropboxusercontent.com/cd/0/inline/BFkOltqVANdfIUbeqI7uqgAjwEFRRM_nLeZ6897etLJLrXWUA9uqRpijPs-yFPTYvHqCYRN2zV_2_iRhTZysprzY9G_ug2tu5cAA8UYyWltBrQgoQMiX4QybIZkCC4Tj6BI/file# [following]\n",
      "--2020-12-23 14:33:00--  https://uc0e3c6a9e753ef9af708b09f4f5.dl.dropboxusercontent.com/cd/0/inline/BFkOltqVANdfIUbeqI7uqgAjwEFRRM_nLeZ6897etLJLrXWUA9uqRpijPs-yFPTYvHqCYRN2zV_2_iRhTZysprzY9G_ug2tu5cAA8UYyWltBrQgoQMiX4QybIZkCC4Tj6BI/file\n",
      "Resolving uc0e3c6a9e753ef9af708b09f4f5.dl.dropboxusercontent.com (uc0e3c6a9e753ef9af708b09f4f5.dl.dropboxusercontent.com)... 162.125.80.15, 2620:100:6019:15::a27d:40f\n",
      "Connecting to uc0e3c6a9e753ef9af708b09f4f5.dl.dropboxusercontent.com (uc0e3c6a9e753ef9af708b09f4f5.dl.dropboxusercontent.com)|162.125.80.15|:443... connected.\n",
      "HTTP request sent, awaiting response... 302 Found\n",
      "Location: /cd/0/inline2/BFlvLibjkJQx8-ueautD6u80UNCIZAOqvFbOsCJ1PUdmzh27QN6IzeSknxpoA0K8STdsa7ZXLP_10NjQ9vfYJwCF_5XuhpODQm96l1YKLWCd3J_Uoimnq78Z4T2Pw6hj6AnJEsZrhCjfYsa83fHto1OWbbN5SJnvn5z97vjLiF8XFUqmA6g9Tc1OuowWgheUb7S-Kt_WMwtVqdp3OOQFciOFphY0aw5RfHzyHVnoQoh_Od4yczKAL_Sl_SGfpjsVj5j0LURSL7YhucithH3pO48IWSU6-X7gpv_dq6eDb3Kl1j9XVI-6yp_0_FPR9roKGgWJtLzbW3osSCKZROXcfyllYHvYamwSC2gCDrXYGmOomQ/file [following]\n",
      "--2020-12-23 14:33:01--  https://uc0e3c6a9e753ef9af708b09f4f5.dl.dropboxusercontent.com/cd/0/inline2/BFlvLibjkJQx8-ueautD6u80UNCIZAOqvFbOsCJ1PUdmzh27QN6IzeSknxpoA0K8STdsa7ZXLP_10NjQ9vfYJwCF_5XuhpODQm96l1YKLWCd3J_Uoimnq78Z4T2Pw6hj6AnJEsZrhCjfYsa83fHto1OWbbN5SJnvn5z97vjLiF8XFUqmA6g9Tc1OuowWgheUb7S-Kt_WMwtVqdp3OOQFciOFphY0aw5RfHzyHVnoQoh_Od4yczKAL_Sl_SGfpjsVj5j0LURSL7YhucithH3pO48IWSU6-X7gpv_dq6eDb3Kl1j9XVI-6yp_0_FPR9roKGgWJtLzbW3osSCKZROXcfyllYHvYamwSC2gCDrXYGmOomQ/file\n",
      "Reusing existing connection to uc0e3c6a9e753ef9af708b09f4f5.dl.dropboxusercontent.com:443.\n",
      "HTTP request sent, awaiting response... 200 OK\n",
      "Length: 796742678 (760M) [application/zip]\n",
      "Saving to: ‘FruitsData.zip’\n",
      "\n",
      "FruitsData.zip      100%[===================>] 759.83M  13.7MB/s    in 64s     \n",
      "\n",
      "2020-12-23 14:34:05 (11.9 MB/s) - ‘FruitsData.zip’ saved [796742678/796742678]\n",
      "\n"
     ]
    }
   ],
   "source": [
    "!wget https://www.dropbox.com/s/fxn3ldztzwxm0rw/FruitsData.zip"
   ]
  },
  {
   "cell_type": "code",
   "execution_count": 3,
   "metadata": {
    "executionInfo": {
     "elapsed": 81818,
     "status": "ok",
     "timestamp": 1608734057400,
     "user": {
      "displayName": "Abhilash Chintada",
      "photoUrl": "https://lh3.googleusercontent.com/a-/AOh14GhlwwwMJr16CgjmRFWk833xZEy2OfpaFZDIqM84=s64",
      "userId": "00311744807213723199"
     },
     "user_tz": -330
    },
    "id": "flOgnPsAj_UF"
   },
   "outputs": [],
   "source": [
    "!unzip -q \"/content/FruitsData.zip\""
   ]
  },
  {
   "cell_type": "code",
   "execution_count": 4,
   "metadata": {
    "executionInfo": {
     "elapsed": 83187,
     "status": "ok",
     "timestamp": 1608734058772,
     "user": {
      "displayName": "Abhilash Chintada",
      "photoUrl": "https://lh3.googleusercontent.com/a-/AOh14GhlwwwMJr16CgjmRFWk833xZEy2OfpaFZDIqM84=s64",
      "userId": "00311744807213723199"
     },
     "user_tz": -330
    },
    "id": "bbucsZPQhcps"
   },
   "outputs": [],
   "source": [
    "# Imports required for this project\n",
    "import tensorflow as tf\n",
    "import numpy as np\n",
    "import matplotlib.pyplot as plt\n",
    "from pathlib import Path\n",
    "\n",
    "tf.random.set_seed(4)"
   ]
  },
  {
   "cell_type": "code",
   "execution_count": 5,
   "metadata": {
    "executionInfo": {
     "elapsed": 83182,
     "status": "ok",
     "timestamp": 1608734058773,
     "user": {
      "displayName": "Abhilash Chintada",
      "photoUrl": "https://lh3.googleusercontent.com/a-/AOh14GhlwwwMJr16CgjmRFWk833xZEy2OfpaFZDIqM84=s64",
      "userId": "00311744807213723199"
     },
     "user_tz": -330
    },
    "id": "2USniwjMjJlq"
   },
   "outputs": [],
   "source": [
    "# Creating the Pathlib PATH objects\n",
    "train_path = Path(\"fruits-360/Training\")\n",
    "test_path = Path(\"fruits-360/Test\")"
   ]
  },
  {
   "cell_type": "code",
   "execution_count": 6,
   "metadata": {
    "colab": {
     "base_uri": "https://localhost:8080/"
    },
    "executionInfo": {
     "elapsed": 83560,
     "status": "ok",
     "timestamp": 1608734059164,
     "user": {
      "displayName": "Abhilash Chintada",
      "photoUrl": "https://lh3.googleusercontent.com/a-/AOh14GhlwwwMJr16CgjmRFWk833xZEy2OfpaFZDIqM84=s64",
      "userId": "00311744807213723199"
     },
     "user_tz": -330
    },
    "id": "CY8kbQwokLyR",
    "outputId": "f464b445-870e-4b3b-eccd-0d93896ed28c"
   },
   "outputs": [
    {
     "data": {
      "text/plain": [
       "['fruits-360/Training/Carambula/249_100.jpg',\n",
       " 'fruits-360/Training/Carambula/r_38_100.jpg',\n",
       " 'fruits-360/Training/Carambula/318_100.jpg',\n",
       " 'fruits-360/Training/Carambula/40_100.jpg',\n",
       " 'fruits-360/Training/Carambula/243_100.jpg',\n",
       " 'fruits-360/Training/Carambula/26_100.jpg',\n",
       " 'fruits-360/Training/Carambula/113_100.jpg',\n",
       " 'fruits-360/Training/Carambula/124_100.jpg',\n",
       " 'fruits-360/Training/Carambula/141_100.jpg',\n",
       " 'fruits-360/Training/Carambula/r_154_100.jpg']"
      ]
     },
     "execution_count": 6,
     "metadata": {
      "tags": []
     },
     "output_type": "execute_result"
    }
   ],
   "source": [
    "# Getting Image paths \n",
    "train_image_paths = list(train_path.glob(\"*/*\"))\n",
    "train_image_paths = list(map(lambda x : str(x) , train_image_paths))\n",
    "\n",
    "train_image_paths[:10]"
   ]
  },
  {
   "cell_type": "code",
   "execution_count": 7,
   "metadata": {
    "colab": {
     "base_uri": "https://localhost:8080/"
    },
    "executionInfo": {
     "elapsed": 83549,
     "status": "ok",
     "timestamp": 1608734059165,
     "user": {
      "displayName": "Abhilash Chintada",
      "photoUrl": "https://lh3.googleusercontent.com/a-/AOh14GhlwwwMJr16CgjmRFWk833xZEy2OfpaFZDIqM84=s64",
      "userId": "00311744807213723199"
     },
     "user_tz": -330
    },
    "id": "nHGWNSp8kcLr",
    "outputId": "fb1e916c-9ef0-403c-aa5c-4df2356bbbeb"
   },
   "outputs": [
    {
     "data": {
      "text/plain": [
       "['Carambula',\n",
       " 'Carambula',\n",
       " 'Carambula',\n",
       " 'Carambula',\n",
       " 'Carambula',\n",
       " 'Carambula',\n",
       " 'Carambula',\n",
       " 'Carambula',\n",
       " 'Carambula',\n",
       " 'Carambula']"
      ]
     },
     "execution_count": 7,
     "metadata": {
      "tags": []
     },
     "output_type": "execute_result"
    }
   ],
   "source": [
    "# Getting their respective labels \n",
    "\n",
    "def get_label(image_path):\n",
    "    return image_path.split(\"/\")[-2]\n",
    "\n",
    "train_image_labels = list(map(lambda x : get_label(x) , train_image_paths))\n",
    "train_image_labels[:10]"
   ]
  },
  {
   "cell_type": "code",
   "execution_count": 8,
   "metadata": {
    "colab": {
     "base_uri": "https://localhost:8080/"
    },
    "executionInfo": {
     "elapsed": 82455,
     "status": "ok",
     "timestamp": 1608734059562,
     "user": {
      "displayName": "Abhilash Chintada",
      "photoUrl": "https://lh3.googleusercontent.com/a-/AOh14GhlwwwMJr16CgjmRFWk833xZEy2OfpaFZDIqM84=s64",
      "userId": "00311744807213723199"
     },
     "user_tz": -330
    },
    "id": "DtBFz9NfknrJ",
    "outputId": "c727fb00-5876-4a4e-a4a0-ad8f43af1e31"
   },
   "outputs": [
    {
     "data": {
      "text/plain": [
       "array([24, 24, 24, 24, 24, 24, 24, 24, 24, 24])"
      ]
     },
     "execution_count": 8,
     "metadata": {
      "tags": []
     },
     "output_type": "execute_result"
    }
   ],
   "source": [
    "from sklearn.preprocessing import LabelEncoder \n",
    "\n",
    "Le = LabelEncoder()\n",
    "train_image_labels = Le.fit_transform(train_image_labels)\n",
    "\n",
    "train_image_labels[:10]"
   ]
  },
  {
   "cell_type": "code",
   "execution_count": 9,
   "metadata": {
    "colab": {
     "base_uri": "https://localhost:8080/"
    },
    "executionInfo": {
     "elapsed": 82731,
     "status": "ok",
     "timestamp": 1608734060009,
     "user": {
      "displayName": "Abhilash Chintada",
      "photoUrl": "https://lh3.googleusercontent.com/a-/AOh14GhlwwwMJr16CgjmRFWk833xZEy2OfpaFZDIqM84=s64",
      "userId": "00311744807213723199"
     },
     "user_tz": -330
    },
    "id": "HS6UTHa7T-Et",
    "outputId": "e1ff478e-ee7c-46ee-a2ab-d698ea62f424"
   },
   "outputs": [
    {
     "data": {
      "text/plain": [
       "array([[0., 0., 0., ..., 0., 0., 0.],\n",
       "       [0., 0., 0., ..., 0., 0., 0.],\n",
       "       [0., 0., 0., ..., 0., 0., 0.],\n",
       "       ...,\n",
       "       [0., 0., 0., ..., 0., 0., 0.],\n",
       "       [0., 0., 0., ..., 0., 0., 0.],\n",
       "       [0., 0., 0., ..., 0., 0., 0.]], dtype=float32)"
      ]
     },
     "execution_count": 9,
     "metadata": {
      "tags": []
     },
     "output_type": "execute_result"
    }
   ],
   "source": [
    "train_image_labels = tf.keras.utils.to_categorical(train_image_labels)\n",
    "\n",
    "train_image_labels[:10]"
   ]
  },
  {
   "cell_type": "code",
   "execution_count": 10,
   "metadata": {
    "executionInfo": {
     "elapsed": 82576,
     "status": "ok",
     "timestamp": 1608734060011,
     "user": {
      "displayName": "Abhilash Chintada",
      "photoUrl": "https://lh3.googleusercontent.com/a-/AOh14GhlwwwMJr16CgjmRFWk833xZEy2OfpaFZDIqM84=s64",
      "userId": "00311744807213723199"
     },
     "user_tz": -330
    },
    "id": "Ji1Weit-lVDU"
   },
   "outputs": [],
   "source": [
    "from sklearn.model_selection import train_test_split \n",
    "\n",
    "Train_paths , Val_paths , Train_labels , Val_labels = train_test_split(train_image_paths , train_image_labels)"
   ]
  },
  {
   "cell_type": "code",
   "execution_count": 11,
   "metadata": {
    "colab": {
     "base_uri": "https://localhost:8080/"
    },
    "executionInfo": {
     "elapsed": 82403,
     "status": "ok",
     "timestamp": 1608734060012,
     "user": {
      "displayName": "Abhilash Chintada",
      "photoUrl": "https://lh3.googleusercontent.com/a-/AOh14GhlwwwMJr16CgjmRFWk833xZEy2OfpaFZDIqM84=s64",
      "userId": "00311744807213723199"
     },
     "user_tz": -330
    },
    "id": "3mPIUdCCltbj",
    "outputId": "536d625f-6263-4ace-e175-96a4a3a27db3"
   },
   "outputs": [
    {
     "data": {
      "text/plain": [
       "(['fruits-360/Training/Ginger Root/r_151_100.jpg',\n",
       "  'fruits-360/Training/Apple Red Yellow 1/r_168_100.jpg',\n",
       "  'fruits-360/Training/Tomato 3/r2_77_100.jpg',\n",
       "  'fruits-360/Training/Tangelo/r_33_100.jpg',\n",
       "  'fruits-360/Training/Limes/r_274_100.jpg',\n",
       "  'fruits-360/Training/Kiwi/260_100.jpg',\n",
       "  'fruits-360/Training/Grape White 2/254_100.jpg',\n",
       "  'fruits-360/Training/Pear 2/r2_56_100.jpg',\n",
       "  'fruits-360/Training/Tamarillo/r_270_100.jpg',\n",
       "  'fruits-360/Training/Passion Fruit/194_100.jpg'],\n",
       " array([[0., 0., 0., ..., 0., 0., 0.],\n",
       "        [0., 0., 0., ..., 0., 0., 0.],\n",
       "        [0., 0., 0., ..., 0., 0., 0.],\n",
       "        ...,\n",
       "        [0., 0., 0., ..., 0., 0., 0.],\n",
       "        [0., 0., 0., ..., 0., 0., 0.],\n",
       "        [0., 0., 0., ..., 0., 0., 0.]], dtype=float32))"
      ]
     },
     "execution_count": 11,
     "metadata": {
      "tags": []
     },
     "output_type": "execute_result"
    }
   ],
   "source": [
    "Train_paths[:10] , Train_labels[:10]"
   ]
  },
  {
   "cell_type": "code",
   "execution_count": 12,
   "metadata": {
    "executionInfo": {
     "elapsed": 80149,
     "status": "ok",
     "timestamp": 1608734060013,
     "user": {
      "displayName": "Abhilash Chintada",
      "photoUrl": "https://lh3.googleusercontent.com/a-/AOh14GhlwwwMJr16CgjmRFWk833xZEy2OfpaFZDIqM84=s64",
      "userId": "00311744807213723199"
     },
     "user_tz": -330
    },
    "id": "WayfB4DUlwwP"
   },
   "outputs": [],
   "source": [
    "# Function used for Transformation\n",
    "\n",
    "def load(image , label):\n",
    "    image = tf.io.read_file(image)\n",
    "    image = tf.io.decode_jpeg(image , channels = 3)\n",
    "    return image , label"
   ]
  },
  {
   "cell_type": "code",
   "execution_count": 13,
   "metadata": {
    "executionInfo": {
     "elapsed": 85282,
     "status": "ok",
     "timestamp": 1608734065424,
     "user": {
      "displayName": "Abhilash Chintada",
      "photoUrl": "https://lh3.googleusercontent.com/a-/AOh14GhlwwwMJr16CgjmRFWk833xZEy2OfpaFZDIqM84=s64",
      "userId": "00311744807213723199"
     },
     "user_tz": -330
    },
    "id": "4oJwdwPnR2iI"
   },
   "outputs": [],
   "source": [
    "# Define IMAGE SIZE and BATCH SIZE \n",
    "IMG_SIZE = 224 \n",
    "BATCH_SIZE = 32\n",
    "\n",
    "# Basic Transformation\n",
    "resize = tf.keras.Sequential([\n",
    "    tf.keras.layers.experimental.preprocessing.Resizing(IMG_SIZE, IMG_SIZE)          \n",
    "])\n",
    "\n",
    "# Data Augmentation\n",
    "data_augmentation = tf.keras.Sequential([\n",
    "    tf.keras.layers.experimental.preprocessing.RandomFlip(\"horizontal\"),\n",
    "    tf.keras.layers.experimental.preprocessing.RandomRotation(0.2),\n",
    "    tf.keras.layers.experimental.preprocessing.RandomZoom(height_factor = (-0.3, -0.2))\n",
    "])"
   ]
  },
  {
   "cell_type": "code",
   "execution_count": 14,
   "metadata": {
    "executionInfo": {
     "elapsed": 84932,
     "status": "ok",
     "timestamp": 1608734065427,
     "user": {
      "displayName": "Abhilash Chintada",
      "photoUrl": "https://lh3.googleusercontent.com/a-/AOh14GhlwwwMJr16CgjmRFWk833xZEy2OfpaFZDIqM84=s64",
      "userId": "00311744807213723199"
     },
     "user_tz": -330
    },
    "id": "rR4A_FLKl9Cp"
   },
   "outputs": [],
   "source": [
    "# Function used to Create a Tensorflow Data Object\n",
    "AUTOTUNE = tf.data.experimental.AUTOTUNE\n",
    "def get_dataset(paths , labels , train = True):\n",
    "    image_paths = tf.convert_to_tensor(paths)\n",
    "    labels = tf.convert_to_tensor(labels)\n",
    "\n",
    "    image_dataset = tf.data.Dataset.from_tensor_slices(image_paths)\n",
    "    label_dataset = tf.data.Dataset.from_tensor_slices(labels)\n",
    "\n",
    "    dataset = tf.data.Dataset.zip((image_dataset , label_dataset))\n",
    "\n",
    "    dataset = dataset.map(lambda image , label : load(image , label))\n",
    "    dataset = dataset.map(lambda image, label: (resize(image), label) , num_parallel_calls=AUTOTUNE)\n",
    "    dataset = dataset.shuffle(1000)\n",
    "    dataset = dataset.batch(BATCH_SIZE)\n",
    "\n",
    "    if train:\n",
    "        dataset = dataset.map(lambda image, label: (data_augmentation(image), label) , num_parallel_calls=AUTOTUNE)\n",
    "    \n",
    "    dataset = dataset.repeat()\n",
    "    return dataset"
   ]
  },
  {
   "cell_type": "code",
   "execution_count": 15,
   "metadata": {
    "colab": {
     "base_uri": "https://localhost:8080/"
    },
    "executionInfo": {
     "elapsed": 85566,
     "status": "ok",
     "timestamp": 1608734068069,
     "user": {
      "displayName": "Abhilash Chintada",
      "photoUrl": "https://lh3.googleusercontent.com/a-/AOh14GhlwwwMJr16CgjmRFWk833xZEy2OfpaFZDIqM84=s64",
      "userId": "00311744807213723199"
     },
     "user_tz": -330
    },
    "id": "eXbkOIjjoZo4",
    "outputId": "9905e991-dd76-4e85-8edf-177c7356b99d"
   },
   "outputs": [
    {
     "name": "stdout",
     "output_type": "stream",
     "text": [
      "CPU times: user 338 ms, sys: 11 ms, total: 348 ms\n",
      "Wall time: 397 ms\n",
      "(32, 224, 224, 3)\n",
      "(32, 131)\n"
     ]
    }
   ],
   "source": [
    "# Creating Train Dataset object and Verifying it\n",
    "%time train_dataset = get_dataset(Train_paths , Train_labels)\n",
    "\n",
    "image , label = next(iter(train_dataset))\n",
    "print(image.shape)\n",
    "print(label.shape)"
   ]
  },
  {
   "cell_type": "code",
   "execution_count": 16,
   "metadata": {
    "colab": {
     "base_uri": "https://localhost:8080/",
     "height": 302
    },
    "executionInfo": {
     "elapsed": 85258,
     "status": "ok",
     "timestamp": 1608734068070,
     "user": {
      "displayName": "Abhilash Chintada",
      "photoUrl": "https://lh3.googleusercontent.com/a-/AOh14GhlwwwMJr16CgjmRFWk833xZEy2OfpaFZDIqM84=s64",
      "userId": "00311744807213723199"
     },
     "user_tz": -330
    },
    "id": "qmEunSLQrmoy",
    "outputId": "b5e18f00-c69b-43f2-d8c7-1247ebb39652"
   },
   "outputs": [
    {
     "name": "stdout",
     "output_type": "stream",
     "text": [
      "Apple Red Delicious\n"
     ]
    },
    {
     "data": {
      "text/plain": [
       "<matplotlib.image.AxesImage at 0x7f4ea925c438>"
      ]
     },
     "execution_count": 16,
     "metadata": {
      "tags": []
     },
     "output_type": "execute_result"
    },
    {
     "data": {
      "image/png": "[encoded data removed]",
      "text/plain": [
       "<Figure size 432x288 with 1 Axes>"
      ]
     },
     "metadata": {
      "needs_background": "light",
      "tags": []
     },
     "output_type": "display_data"
    }
   ],
   "source": [
    "# View a sample Training Image\n",
    "print(Le.inverse_transform(np.argmax(label , axis = 1))[0])\n",
    "plt.imshow((image[0].numpy()/255).reshape(224 , 224 , 3))"
   ]
  },
  {
   "cell_type": "code",
   "execution_count": 17,
   "metadata": {
    "colab": {
     "base_uri": "https://localhost:8080/"
    },
    "executionInfo": {
     "elapsed": 86570,
     "status": "ok",
     "timestamp": 1608734069729,
     "user": {
      "displayName": "Abhilash Chintada",
      "photoUrl": "https://lh3.googleusercontent.com/a-/AOh14GhlwwwMJr16CgjmRFWk833xZEy2OfpaFZDIqM84=s64",
      "userId": "00311744807213723199"
     },
     "user_tz": -330
    },
    "id": "Xi9IJStcoc6M",
    "outputId": "ccbdff68-4640-4bea-a8b6-ef8978b9404c"
   },
   "outputs": [
    {
     "name": "stdout",
     "output_type": "stream",
     "text": [
      "CPU times: user 28.6 ms, sys: 1.84 ms, total: 30.5 ms\n",
      "Wall time: 34.8 ms\n",
      "(32, 224, 224, 3)\n",
      "(32, 131)\n"
     ]
    }
   ],
   "source": [
    "%time val_dataset = get_dataset(Val_paths , Val_labels , train = False)\n",
    "\n",
    "image , label = next(iter(val_dataset))\n",
    "print(image.shape)\n",
    "print(label.shape)"
   ]
  },
  {
   "cell_type": "code",
   "execution_count": 18,
   "metadata": {
    "colab": {
     "base_uri": "https://localhost:8080/",
     "height": 302
    },
    "executionInfo": {
     "elapsed": 84997,
     "status": "ok",
     "timestamp": 1608734069730,
     "user": {
      "displayName": "Abhilash Chintada",
      "photoUrl": "https://lh3.googleusercontent.com/a-/AOh14GhlwwwMJr16CgjmRFWk833xZEy2OfpaFZDIqM84=s64",
      "userId": "00311744807213723199"
     },
     "user_tz": -330
    },
    "id": "b_gqj-vjvErp",
    "outputId": "6125ee0a-aeef-4198-bcc3-527fe7fb6ce8"
   },
   "outputs": [
    {
     "name": "stdout",
     "output_type": "stream",
     "text": [
      "Maracuja\n"
     ]
    },
    {
     "data": {
      "text/plain": [
       "<matplotlib.image.AxesImage at 0x7f4eaa0447f0>"
      ]
     },
     "execution_count": 18,
     "metadata": {
      "tags": []
     },
     "output_type": "execute_result"
    },
    {
     "data": {
      "image/png": "[encoded data removed]",
      "text/plain": [
       "<Figure size 432x288 with 1 Axes>"
      ]
     },
     "metadata": {
      "needs_background": "light",
      "tags": []
     },
     "output_type": "display_data"
    }
   ],
   "source": [
    "# View a sample Validation Image\n",
    "print(Le.inverse_transform(np.argmax(label , axis = 1))[0])\n",
    "plt.imshow((image[0].numpy()/255).reshape(224 , 224 , 3))"
   ]
  },
  {
   "cell_type": "code",
   "execution_count": 19,
   "metadata": {
    "colab": {
     "base_uri": "https://localhost:8080/"
    },
    "executionInfo": {
     "elapsed": 4297,
     "status": "ok",
     "timestamp": 1608734074064,
     "user": {
      "displayName": "Abhilash Chintada",
      "photoUrl": "https://lh3.googleusercontent.com/a-/AOh14GhlwwwMJr16CgjmRFWk833xZEy2OfpaFZDIqM84=s64",
      "userId": "00311744807213723199"
     },
     "user_tz": -330
    },
    "id": "9e32BWRjUuV6",
    "outputId": "98a325e3-0755-4e5b-9d59-54a16b70356d"
   },
   "outputs": [
    {
     "name": "stdout",
     "output_type": "stream",
     "text": [
      "Downloading data from https://storage.googleapis.com/tensorflow/keras-applications/resnet/resnet50v2_weights_tf_dim_ordering_tf_kernels_notop.h5\n",
      "94674944/94668760 [==============================] - 1s 0us/step\n",
      "Model: \"sequential_2\"\n",
      "_________________________________________________________________\n",
      "Layer (type)                 Output Shape              Param #   \n",
      "=================================================================\n",
      "resnet50v2 (Functional)      (None, 7, 7, 2048)        23564800  \n",
      "_________________________________________________________________\n",
      "global_average_pooling2d (Gl (None, 2048)              0         \n",
      "_________________________________________________________________\n",
      "dense (Dense)                (None, 131)               268419    \n",
      "=================================================================\n",
      "Total params: 23,833,219\n",
      "Trainable params: 23,787,779\n",
      "Non-trainable params: 45,440\n",
      "_________________________________________________________________\n"
     ]
    }
   ],
   "source": [
    "# Building ResNet50 model\n",
    "from tensorflow.keras.applications import ResNet50V2\n",
    "\n",
    "backbone = ResNet50V2(\n",
    "    input_shape=(224, 224, 3),\n",
    "    include_top=False\n",
    ")\n",
    "\n",
    "model = tf.keras.Sequential([\n",
    "    backbone,\n",
    "    tf.keras.layers.GlobalAveragePooling2D(),\n",
    "    tf.keras.layers.Dense(131, activation='softmax')\n",
    "])\n",
    "\n",
    "model.summary()"
   ]
  },
  {
   "cell_type": "code",
   "execution_count": 20,
   "metadata": {
    "executionInfo": {
     "elapsed": 4292,
     "status": "ok",
     "timestamp": 1608734074065,
     "user": {
      "displayName": "Abhilash Chintada",
      "photoUrl": "https://lh3.googleusercontent.com/a-/AOh14GhlwwwMJr16CgjmRFWk833xZEy2OfpaFZDIqM84=s64",
      "userId": "00311744807213723199"
     },
     "user_tz": -330
    },
    "id": "crnP0rolUy0O"
   },
   "outputs": [],
   "source": [
    "# Compiling your model by providing the Optimizer , Loss and Metrics\n",
    "model.compile(\n",
    "    optimizer=tf.keras.optimizers.Adam(learning_rate=0.001, beta_1=0.9, beta_2=0.999, epsilon=1e-07),\n",
    "    loss = 'categorical_crossentropy',\n",
    "    metrics=['accuracy' , tf.keras.metrics.Precision(name='precision'),tf.keras.metrics.Recall(name='recall')]\n",
    ")"
   ]
  },
  {
   "cell_type": "code",
   "execution_count": 21,
   "metadata": {
    "colab": {
     "base_uri": "https://localhost:8080/"
    },
    "executionInfo": {
     "elapsed": 33980,
     "status": "ok",
     "timestamp": 1608734736173,
     "user": {
      "displayName": "Abhilash Chintada",
      "photoUrl": "https://lh3.googleusercontent.com/a-/AOh14GhlwwwMJr16CgjmRFWk833xZEy2OfpaFZDIqM84=s64",
      "userId": "00311744807213723199"
     },
     "user_tz": -330
    },
    "id": "bATVPoL4xtyJ",
    "outputId": "5c84d16a-2a16-48b4-b4ac-8ffbde22c2d5"
   },
   "outputs": [
    {
     "name": "stdout",
     "output_type": "stream",
     "text": [
      "1586/1586 [==============================] - 662s 409ms/step - loss: 1.0944 - accuracy: 0.7232 - precision: 0.8577 - recall: 0.6469 - val_loss: 3.2430 - val_accuracy: 0.4893 - val_precision: 0.5169 - val_recall: 0.4663\n"
     ]
    }
   ],
   "source": [
    "# Train the model\n",
    "history = model.fit(\n",
    "    train_dataset,\n",
    "    steps_per_epoch=len(Train_paths)//BATCH_SIZE,\n",
    "    epochs=1,\n",
    "    #callbacks=[checkpoint , early_stop],\n",
    "    validation_data=val_dataset,\n",
    "    validation_steps = len(Val_paths)//BATCH_SIZE,\n",
    ")"
   ]
  },
  {
   "cell_type": "code",
   "execution_count": 22,
   "metadata": {
    "executionInfo": {
     "elapsed": 56,
     "status": "ok",
     "timestamp": 1608734736176,
     "user": {
      "displayName": "Abhilash Chintada",
      "photoUrl": "https://lh3.googleusercontent.com/a-/AOh14GhlwwwMJr16CgjmRFWk833xZEy2OfpaFZDIqM84=s64",
      "userId": "00311744807213723199"
     },
     "user_tz": -330
    },
    "id": "28vylx4DyDBS"
   },
   "outputs": [],
   "source": [
    "model.layers[0].trainable = False"
   ]
  },
  {
   "cell_type": "code",
   "execution_count": 23,
   "metadata": {
    "executionInfo": {
     "elapsed": 39,
     "status": "ok",
     "timestamp": 1608734736178,
     "user": {
      "displayName": "Abhilash Chintada",
      "photoUrl": "https://lh3.googleusercontent.com/a-/AOh14GhlwwwMJr16CgjmRFWk833xZEy2OfpaFZDIqM84=s64",
      "userId": "00311744807213723199"
     },
     "user_tz": -330
    },
    "id": "U8r6G0RVU3c2"
   },
   "outputs": [],
   "source": [
    "# Defining our callbacks \n",
    "checkpoint = tf.keras.callbacks.ModelCheckpoint(\"best_weights.h5\",verbose=1,save_best_only=True,save_weights_only = True)\n",
    "early_stop = tf.keras.callbacks.EarlyStopping(patience=4)"
   ]
  },
  {
   "cell_type": "code",
   "execution_count": 24,
   "metadata": {
    "colab": {
     "base_uri": "https://localhost:8080/"
    },
    "executionInfo": {
     "elapsed": 32,
     "status": "ok",
     "timestamp": 1608734736179,
     "user": {
      "displayName": "Abhilash Chintada",
      "photoUrl": "https://lh3.googleusercontent.com/a-/AOh14GhlwwwMJr16CgjmRFWk833xZEy2OfpaFZDIqM84=s64",
      "userId": "00311744807213723199"
     },
     "user_tz": -330
    },
    "id": "Gn0a29MW0s5c",
    "outputId": "32df073e-2af9-49ae-d637-a5adf3da1dd8"
   },
   "outputs": [
    {
     "name": "stdout",
     "output_type": "stream",
     "text": [
      "Model: \"sequential_2\"\n",
      "_________________________________________________________________\n",
      "Layer (type)                 Output Shape              Param #   \n",
      "=================================================================\n",
      "resnet50v2 (Functional)      (None, 7, 7, 2048)        23564800  \n",
      "_________________________________________________________________\n",
      "global_average_pooling2d (Gl (None, 2048)              0         \n",
      "_________________________________________________________________\n",
      "dense (Dense)                (None, 131)               268419    \n",
      "=================================================================\n",
      "Total params: 23,833,219\n",
      "Trainable params: 268,419\n",
      "Non-trainable params: 23,564,800\n",
      "_________________________________________________________________\n"
     ]
    }
   ],
   "source": [
    "model.summary()"
   ]
  },
  {
   "cell_type": "code",
   "execution_count": 25,
   "metadata": {
    "colab": {
     "base_uri": "https://localhost:8080/"
    },
    "executionInfo": {
     "elapsed": 5038263,
     "status": "ok",
     "timestamp": 1608739774418,
     "user": {
      "displayName": "Abhilash Chintada",
      "photoUrl": "https://lh3.googleusercontent.com/a-/AOh14GhlwwwMJr16CgjmRFWk833xZEy2OfpaFZDIqM84=s64",
      "userId": "00311744807213723199"
     },
     "user_tz": -330
    },
    "id": "1IeOU2kKU5OT",
    "outputId": "3a216478-12c0-4036-9237-3b515e5a0e13"
   },
   "outputs": [
    {
     "name": "stdout",
     "output_type": "stream",
     "text": [
      "Epoch 1/8\n",
      "1586/1586 [==============================] - 644s 406ms/step - loss: 0.0884 - accuracy: 0.9726 - precision: 0.9760 - recall: 0.9694 - val_loss: 2.2656 - val_accuracy: 0.5826 - val_precision: 0.6111 - val_recall: 0.5613\n",
      "\n",
      "Epoch 00001: val_loss improved from inf to 2.26557, saving model to best_weights.h5\n",
      "Epoch 2/8\n",
      "1586/1586 [==============================] - 640s 403ms/step - loss: 0.0620 - accuracy: 0.9807 - precision: 0.9824 - recall: 0.9792 - val_loss: 2.0676 - val_accuracy: 0.6226 - val_precision: 0.6448 - val_recall: 0.6025\n",
      "\n",
      "Epoch 00002: val_loss improved from 2.26557 to 2.06764, saving model to best_weights.h5\n",
      "Epoch 3/8\n",
      "1586/1586 [==============================] - 633s 399ms/step - loss: 0.0486 - accuracy: 0.9853 - precision: 0.9864 - recall: 0.9840 - val_loss: 2.4485 - val_accuracy: 0.5639 - val_precision: 0.5918 - val_recall: 0.5454\n",
      "\n",
      "Epoch 00003: val_loss did not improve from 2.06764\n",
      "Epoch 4/8\n",
      "1586/1586 [==============================] - 628s 396ms/step - loss: 0.0386 - accuracy: 0.9882 - precision: 0.9890 - recall: 0.9875 - val_loss: 2.1043 - val_accuracy: 0.6634 - val_precision: 0.6923 - val_recall: 0.6472\n",
      "\n",
      "Epoch 00004: val_loss did not improve from 2.06764\n",
      "Epoch 5/8\n",
      "1586/1586 [==============================] - 626s 395ms/step - loss: 0.0321 - accuracy: 0.9904 - precision: 0.9909 - recall: 0.9899 - val_loss: 2.0154 - val_accuracy: 0.6745 - val_precision: 0.6969 - val_recall: 0.6597\n",
      "\n",
      "Epoch 00005: val_loss improved from 2.06764 to 2.01544, saving model to best_weights.h5\n",
      "Epoch 6/8\n",
      "1586/1586 [==============================] - 621s 392ms/step - loss: 0.0276 - accuracy: 0.9915 - precision: 0.9919 - recall: 0.9913 - val_loss: 2.1314 - val_accuracy: 0.6430 - val_precision: 0.6614 - val_recall: 0.6318\n",
      "\n",
      "Epoch 00006: val_loss did not improve from 2.01544\n",
      "Epoch 7/8\n",
      "1586/1586 [==============================] - 621s 392ms/step - loss: 0.0235 - accuracy: 0.9934 - precision: 0.9938 - recall: 0.9931 - val_loss: 4.1739 - val_accuracy: 0.5232 - val_precision: 0.5430 - val_recall: 0.5131\n",
      "\n",
      "Epoch 00007: val_loss did not improve from 2.01544\n",
      "Epoch 8/8\n",
      "1586/1586 [==============================] - 623s 393ms/step - loss: 0.0189 - accuracy: 0.9942 - precision: 0.9946 - recall: 0.9940 - val_loss: 3.6547 - val_accuracy: 0.5398 - val_precision: 0.5539 - val_recall: 0.5294\n",
      "\n",
      "Epoch 00008: val_loss did not improve from 2.01544\n"
     ]
    }
   ],
   "source": [
    "# Train the model\n",
    "history = model.fit(\n",
    "    train_dataset,\n",
    "    steps_per_epoch=len(Train_paths)//BATCH_SIZE,\n",
    "    epochs=8,\n",
    "    callbacks=[checkpoint , early_stop],\n",
    "    validation_data=val_dataset,\n",
    "    validation_steps = len(Val_paths)//BATCH_SIZE,\n",
    ")"
   ]
  },
  {
   "cell_type": "code",
   "execution_count": null,
   "metadata": {
    "id": "zaIUk_NRVJVJ"
   },
   "outputs": [],
   "source": []
  }
 ],
 "metadata": {
  "accelerator": "GPU",
  "colab": {
   "authorship_tag": "ABX9TyOQyOYEaHwTG8vk580pF3uy",
   "collapsed_sections": [],
   "name": "FruitsClassification.ipynb",
   "provenance": []
  },
  "kernelspec": {
   "display_name": "Python 3",
   "language": "python",
   "name": "python3"
  },
  "language_info": {
   "codemirror_mode": {
    "name": "ipython",
    "version": 3
   },
   "file_extension": ".py",
   "mimetype": "text/x-python",
   "name": "python",
   "nbconvert_exporter": "python",
   "pygments_lexer": "ipython3",
   "version": "3.6.8"
  }
 },
 "nbformat": 4,
 "nbformat_minor": 1
}
